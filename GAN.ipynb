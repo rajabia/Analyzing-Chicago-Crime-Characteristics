{
  "nbformat": 4,
  "nbformat_minor": 0,
  "metadata": {
    "colab": {
      "provenance": [],
      "authorship_tag": "ABX9TyMr8G1A0lQ8krJ1yXn9MaNS",
      "include_colab_link": true
    },
    "kernelspec": {
      "name": "python3",
      "display_name": "Python 3"
    },
    "language_info": {
      "name": "python"
    }
  },
  "cells": [
    {
      "cell_type": "markdown",
      "metadata": {
        "id": "view-in-github",
        "colab_type": "text"
      },
      "source": [
        "<a href=\"https://colab.research.google.com/github/rajabia/Analyzing-Chicago-Crime-Characteristics/blob/main/GAN.ipynb\" target=\"_parent\"><img src=\"https://colab.research.google.com/assets/colab-badge.svg\" alt=\"Open In Colab\"/></a>"
      ]
    },
    {
      "cell_type": "code",
      "execution_count": 7,
      "metadata": {
        "id": "wyAEzYyXdFkj"
      },
      "outputs": [],
      "source": [
        "import torch\n",
        "import torchvision\n",
        "from torchvision import datasets , transforms"
      ]
    },
    {
      "cell_type": "code",
      "source": [
        "from torchvision.datasets.sbd import shutil\n",
        "transform = transforms.Compose([transforms.ToTensor()])\n",
        "mnist_trainset = datasets.MNIST(root='./data', train=True, download=True, transform=transform)\n",
        "mnist_testset = datasets.MNIST(root='./data', train=False, download=True, transform=transform)\n",
        "print(torch.cuda.is_available())\n",
        "train_loader = torch.utils.data.DataLoader(dataset= mnist_trainset, batch_size =32, shuffle= True)"
      ],
      "metadata": {
        "colab": {
          "base_uri": "https://localhost:8080/"
        },
        "id": "khMKlf4NdJk8",
        "outputId": "9ab3674d-19e4-4bda-bbee-18d645162023"
      },
      "execution_count": 32,
      "outputs": [
        {
          "output_type": "stream",
          "name": "stdout",
          "text": [
            "False\n"
          ]
        }
      ]
    },
    {
      "cell_type": "code",
      "source": [
        "class AE(torch.nn.Module):\n",
        "  def __init__(self,use_batch_norm =False, use_dropout = False):\n",
        "    super().__init__()\n",
        "    self.use_batch_norm=use_batch_norm\n",
        "    self.use_dropout=use_dropout\n",
        "    self.encoder= torch.nn.Sequential(\n",
        "        torch.nn.Conv2d(in_channels=1, out_channels= 32, kernel_size=3, stride=1),\n",
        "        torch.nn.ReLU(),\n",
        "        torch.nn.Conv2d(in_channels=32, out_channels= 64, kernel_size=3, stride=2,padding=1),\n",
        "        torch.nn.ReLU(),\n",
        "        torch.nn.Conv2d(in_channels=64, out_channels= 64, kernel_size=3, stride=2,padding=1),\n",
        "        torch.nn.ReLU(),\n",
        "        torch.nn.Conv2d(in_channels= 64, out_channels= 64, kernel_size=3, stride=1),\n",
        "        torch.nn.ReLU()\n",
        "\n",
        "    )\n",
        "\n",
        "    self.decoder= torch.nn.Sequential(\n",
        "\n",
        "        torch.nn.ConvTranspose2d(in_channels=64, out_channels= 64, kernel_size=3, stride=1),\n",
        "        torch.nn.ReLU(),\n",
        "        torch.nn.ConvTranspose2d(in_channels=64, out_channels= 64, kernel_size=3, stride=2,padding=1),\n",
        "        torch.nn.ReLU(),\n",
        "        torch.nn.ConvTranspose2d(in_channels=64, out_channels=32, kernel_size=3, stride=2,padding=1,output_padding=1 ),\n",
        "        torch.nn.ReLU(),\n",
        "        torch.nn.ConvTranspose2d(in_channels= 32 , out_channels= 1, kernel_size=3, stride=1),\n",
        "        torch.nn.Sigmoid()\n",
        "    )\n",
        "\n",
        "  def forward(self, x):\n",
        "    x= self.encoder(x)\n",
        "    x= self.decoder(x)\n",
        "    return x\n",
        "\n",
        "def train(model, data_loader,num_epochs,learning_rate):\n",
        "  torch.manual_seed(42)\n",
        "  criterion = torch.nn.MSELoss()\n",
        "  optimizer = torch.optim.Adam(model.parameters(),lr=learning_rate,  weight_decay=1e-5)\n",
        "  for epoch in range(num_epochs):\n",
        "        for img,_ in train_loader:\n",
        "            recon = model(img)\n",
        "            optimizer.zero_grad()\n",
        "            loss = criterion(recon, img)\n",
        "            loss.backward()\n",
        "            optimizer.step()\n",
        "        print('Epoch:{}, Loss:{:.4f}'.format(epoch+1, float(loss)))\n",
        "AutoEncod= AE()\n",
        "# print(AutoEncod)"
      ],
      "metadata": {
        "id": "IvIGSW_C-jlB"
      },
      "execution_count": 68,
      "outputs": []
    },
    {
      "cell_type": "code",
      "source": [
        "LEARNING_RATE = 0.0005\n",
        "BATCH_SIZE = 32\n",
        "INITIAL_EPOCH = 0\n",
        "\n",
        "train(AutoEncod, train_loader,5,LEARNING_RATE)"
      ],
      "metadata": {
        "id": "wHJrTbYdIxkD"
      },
      "execution_count": null,
      "outputs": []
    }
  ]
}